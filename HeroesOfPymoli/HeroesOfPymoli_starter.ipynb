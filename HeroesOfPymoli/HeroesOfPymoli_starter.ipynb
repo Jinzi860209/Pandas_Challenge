{
 "cells": [
  {
   "cell_type": "markdown",
   "metadata": {},
   "source": [
    "### Note\n",
    "* Instructions have been included for each segment. You do not have to follow them exactly, but they are included to help you think through the steps."
   ]
  },
  {
   "cell_type": "code",
   "execution_count": 1,
   "metadata": {},
   "outputs": [
    {
     "data": {
      "text/html": [
       "<div>\n",
       "<style scoped>\n",
       "    .dataframe tbody tr th:only-of-type {\n",
       "        vertical-align: middle;\n",
       "    }\n",
       "\n",
       "    .dataframe tbody tr th {\n",
       "        vertical-align: top;\n",
       "    }\n",
       "\n",
       "    .dataframe thead th {\n",
       "        text-align: right;\n",
       "    }\n",
       "</style>\n",
       "<table border=\"1\" class=\"dataframe\">\n",
       "  <thead>\n",
       "    <tr style=\"text-align: right;\">\n",
       "      <th></th>\n",
       "      <th>Purchase ID</th>\n",
       "      <th>SN</th>\n",
       "      <th>Age</th>\n",
       "      <th>Gender</th>\n",
       "      <th>Item ID</th>\n",
       "      <th>Item Name</th>\n",
       "      <th>Price</th>\n",
       "    </tr>\n",
       "  </thead>\n",
       "  <tbody>\n",
       "    <tr>\n",
       "      <th>0</th>\n",
       "      <td>0</td>\n",
       "      <td>Lisim78</td>\n",
       "      <td>20</td>\n",
       "      <td>Male</td>\n",
       "      <td>108</td>\n",
       "      <td>Extraction, Quickblade Of Trembling Hands</td>\n",
       "      <td>3.53</td>\n",
       "    </tr>\n",
       "    <tr>\n",
       "      <th>1</th>\n",
       "      <td>1</td>\n",
       "      <td>Lisovynya38</td>\n",
       "      <td>40</td>\n",
       "      <td>Male</td>\n",
       "      <td>143</td>\n",
       "      <td>Frenzied Scimitar</td>\n",
       "      <td>1.56</td>\n",
       "    </tr>\n",
       "    <tr>\n",
       "      <th>2</th>\n",
       "      <td>2</td>\n",
       "      <td>Ithergue48</td>\n",
       "      <td>24</td>\n",
       "      <td>Male</td>\n",
       "      <td>92</td>\n",
       "      <td>Final Critic</td>\n",
       "      <td>4.88</td>\n",
       "    </tr>\n",
       "    <tr>\n",
       "      <th>3</th>\n",
       "      <td>3</td>\n",
       "      <td>Chamassasya86</td>\n",
       "      <td>24</td>\n",
       "      <td>Male</td>\n",
       "      <td>100</td>\n",
       "      <td>Blindscythe</td>\n",
       "      <td>3.27</td>\n",
       "    </tr>\n",
       "    <tr>\n",
       "      <th>4</th>\n",
       "      <td>4</td>\n",
       "      <td>Iskosia90</td>\n",
       "      <td>23</td>\n",
       "      <td>Male</td>\n",
       "      <td>131</td>\n",
       "      <td>Fury</td>\n",
       "      <td>1.44</td>\n",
       "    </tr>\n",
       "  </tbody>\n",
       "</table>\n",
       "</div>"
      ],
      "text/plain": [
       "   Purchase ID             SN  Age Gender  Item ID  \\\n",
       "0            0        Lisim78   20   Male      108   \n",
       "1            1    Lisovynya38   40   Male      143   \n",
       "2            2     Ithergue48   24   Male       92   \n",
       "3            3  Chamassasya86   24   Male      100   \n",
       "4            4      Iskosia90   23   Male      131   \n",
       "\n",
       "                                   Item Name  Price  \n",
       "0  Extraction, Quickblade Of Trembling Hands   3.53  \n",
       "1                          Frenzied Scimitar   1.56  \n",
       "2                               Final Critic   4.88  \n",
       "3                                Blindscythe   3.27  \n",
       "4                                       Fury   1.44  "
      ]
     },
     "execution_count": 1,
     "metadata": {},
     "output_type": "execute_result"
    }
   ],
   "source": [
    "# Dependencies and Setup\n",
    "import pandas as pd\n",
    "import numpy as np\n",
    "# File to Load (Remember to Change These)\n",
    "file = \"./Resources/purchase_data.csv\"\n",
    "\n",
    "# Read Purchasing File and store into Pandas data frame\n",
    "file_df = pd.read_csv(file)\n",
    "file_df.head()"
   ]
  },
  {
   "cell_type": "markdown",
   "metadata": {},
   "source": [
    "## Player Count"
   ]
  },
  {
   "cell_type": "markdown",
   "metadata": {},
   "source": [
    "* Display the total number of players\n"
   ]
  },
  {
   "cell_type": "code",
   "execution_count": 2,
   "metadata": {},
   "outputs": [
    {
     "data": {
      "text/html": [
       "<div>\n",
       "<style scoped>\n",
       "    .dataframe tbody tr th:only-of-type {\n",
       "        vertical-align: middle;\n",
       "    }\n",
       "\n",
       "    .dataframe tbody tr th {\n",
       "        vertical-align: top;\n",
       "    }\n",
       "\n",
       "    .dataframe thead th {\n",
       "        text-align: right;\n",
       "    }\n",
       "</style>\n",
       "<table border=\"1\" class=\"dataframe\">\n",
       "  <thead>\n",
       "    <tr style=\"text-align: right;\">\n",
       "      <th></th>\n",
       "      <th>Total_Players</th>\n",
       "    </tr>\n",
       "  </thead>\n",
       "  <tbody>\n",
       "    <tr>\n",
       "      <th>0</th>\n",
       "      <td>576</td>\n",
       "    </tr>\n",
       "  </tbody>\n",
       "</table>\n",
       "</div>"
      ],
      "text/plain": [
       "   Total_Players\n",
       "0            576"
      ]
     },
     "execution_count": 2,
     "metadata": {},
     "output_type": "execute_result"
    }
   ],
   "source": [
    "#Count total players\n",
    "Total_players=len(file_df['SN'].value_counts())\n",
    "#Create data frame\n",
    "Total_players_count=pd.DataFrame({\"Total_Players\":[Total_players]})\n",
    "Total_players_count"
   ]
  },
  {
   "cell_type": "markdown",
   "metadata": {},
   "source": [
    "## Purchasing Analysis (Total)"
   ]
  },
  {
   "cell_type": "markdown",
   "metadata": {},
   "source": [
    "* Run basic calculations to obtain number of unique items, average price, etc.\n",
    "\n",
    "\n",
    "* Create a summary data frame to hold the results\n",
    "\n",
    "\n",
    "* Optional: give the displayed data cleaner formatting\n",
    "\n",
    "\n",
    "* Display the summary data frame\n"
   ]
  },
  {
   "cell_type": "code",
   "execution_count": 3,
   "metadata": {
    "scrolled": true
   },
   "outputs": [
    {
     "data": {
      "text/html": [
       "<style  type=\"text/css\" >\n",
       "</style><table id=\"T_56ffe891_0774_11eb_8740_347df68eaa84\" ><thead>    <tr>        <th class=\"blank level0\" ></th>        <th class=\"col_heading level0 col0\" >Number of Unique Items</th>        <th class=\"col_heading level0 col1\" >Average Price</th>        <th class=\"col_heading level0 col2\" >Number of Purchases</th>        <th class=\"col_heading level0 col3\" >Total Revenue</th>    </tr></thead><tbody>\n",
       "                <tr>\n",
       "                        <th id=\"T_56ffe891_0774_11eb_8740_347df68eaa84level0_row0\" class=\"row_heading level0 row0\" >0</th>\n",
       "                        <td id=\"T_56ffe891_0774_11eb_8740_347df68eaa84row0_col0\" class=\"data row0 col0\" >179</td>\n",
       "                        <td id=\"T_56ffe891_0774_11eb_8740_347df68eaa84row0_col1\" class=\"data row0 col1\" >$3.05</td>\n",
       "                        <td id=\"T_56ffe891_0774_11eb_8740_347df68eaa84row0_col2\" class=\"data row0 col2\" >780</td>\n",
       "                        <td id=\"T_56ffe891_0774_11eb_8740_347df68eaa84row0_col3\" class=\"data row0 col3\" >$2,379.77</td>\n",
       "            </tr>\n",
       "    </tbody></table>"
      ],
      "text/plain": [
       "<pandas.io.formats.style.Styler at 0x2a3d0b97820>"
      ]
     },
     "execution_count": 3,
     "metadata": {},
     "output_type": "execute_result"
    }
   ],
   "source": [
    "# Number of Unique Items    \n",
    "Number_of_unique_items=len(file_df['Item ID'].unique())\n",
    "# Average Purchase Price\n",
    "Average_price=file_df['Price'].mean()\n",
    "# Total Number of Purchases\n",
    "Total_number_of_purchases=file_df['Purchase ID'].count()\n",
    "# Total Revenue\n",
    "Total_revenue=file_df['Price'].sum()\n",
    "\n",
    "#Create data frame\n",
    "Summary_df = pd.DataFrame({\"Number of Unique Items\":[Number_of_unique_items],\n",
    "                           \"Average Price\":[Average_price], \n",
    "                           \"Number of Purchases\": [Total_number_of_purchases], \n",
    "                           \"Total Revenue\": [Total_revenue]})\n",
    "Summary_df \n",
    "#Formatting \n",
    "Summary_df.style.format({'Average Price':\"${:,.2f}\",\n",
    "                         'Total Revenue': \"${:,.2f}\"})\n",
    " "
   ]
  },
  {
   "cell_type": "markdown",
   "metadata": {},
   "source": [
    "## Gender Demographics"
   ]
  },
  {
   "cell_type": "markdown",
   "metadata": {},
   "source": [
    "* Percentage and Count of Male Players\n",
    "\n",
    "\n",
    "* Percentage and Count of Female Players\n",
    "\n",
    "\n",
    "* Percentage and Count of Other / Non-Disclosed\n",
    "\n",
    "\n"
   ]
  },
  {
   "cell_type": "code",
   "execution_count": 4,
   "metadata": {},
   "outputs": [
    {
     "data": {
      "text/html": [
       "<style  type=\"text/css\" >\n",
       "</style><table id=\"T_5703b5e8_0774_11eb_aed7_347df68eaa84\" ><thead>    <tr>        <th class=\"blank level0\" ></th>        <th class=\"col_heading level0 col0\" >Total Count</th>        <th class=\"col_heading level0 col1\" >Percentage of Players</th>    </tr>    <tr>        <th class=\"index_name level0\" >Gender</th>        <th class=\"blank\" ></th>        <th class=\"blank\" ></th>    </tr></thead><tbody>\n",
       "                <tr>\n",
       "                        <th id=\"T_5703b5e8_0774_11eb_aed7_347df68eaa84level0_row0\" class=\"row_heading level0 row0\" >Female</th>\n",
       "                        <td id=\"T_5703b5e8_0774_11eb_aed7_347df68eaa84row0_col0\" class=\"data row0 col0\" >81</td>\n",
       "                        <td id=\"T_5703b5e8_0774_11eb_aed7_347df68eaa84row0_col1\" class=\"data row0 col1\" >14.06%</td>\n",
       "            </tr>\n",
       "            <tr>\n",
       "                        <th id=\"T_5703b5e8_0774_11eb_aed7_347df68eaa84level0_row1\" class=\"row_heading level0 row1\" >Male</th>\n",
       "                        <td id=\"T_5703b5e8_0774_11eb_aed7_347df68eaa84row1_col0\" class=\"data row1 col0\" >484</td>\n",
       "                        <td id=\"T_5703b5e8_0774_11eb_aed7_347df68eaa84row1_col1\" class=\"data row1 col1\" >84.03%</td>\n",
       "            </tr>\n",
       "            <tr>\n",
       "                        <th id=\"T_5703b5e8_0774_11eb_aed7_347df68eaa84level0_row2\" class=\"row_heading level0 row2\" >Other / Non-Disclosed</th>\n",
       "                        <td id=\"T_5703b5e8_0774_11eb_aed7_347df68eaa84row2_col0\" class=\"data row2 col0\" >11</td>\n",
       "                        <td id=\"T_5703b5e8_0774_11eb_aed7_347df68eaa84row2_col1\" class=\"data row2 col1\" >1.91%</td>\n",
       "            </tr>\n",
       "    </tbody></table>"
      ],
      "text/plain": [
       "<pandas.io.formats.style.Styler at 0x2a3d190da00>"
      ]
     },
     "execution_count": 4,
     "metadata": {},
     "output_type": "execute_result"
    }
   ],
   "source": [
    "#Gender count\n",
    "gender_count_df = file_df.groupby(\"Gender\")[\"SN\"].nunique()\n",
    "gender_count_df.head()\n",
    "#Gender percentage\n",
    "gender_percentage_df=gender_count_df/Total_players*100\n",
    "\n",
    "#Create data frame\n",
    "Gender_Demographics_df = pd.DataFrame({\"Total Count\":gender_count_df, \"Percentage of Players\":gender_percentage_df })\n",
    "\n",
    "#Formatting\n",
    "Gender_Demographics_df\n",
    "Gender_Demographics_df.style.format({'Percentage of Players':\"{:,.2f}%\"})\n"
   ]
  },
  {
   "cell_type": "markdown",
   "metadata": {},
   "source": [
    "\n",
    "## Purchasing Analysis (Gender)"
   ]
  },
  {
   "cell_type": "markdown",
   "metadata": {},
   "source": [
    "* Run basic calculations to obtain purchase count, avg. purchase price, avg. purchase total per person etc. by gender\n",
    "\n",
    "\n",
    "\n",
    "\n",
    "* Create a summary data frame to hold the results\n",
    "\n",
    "\n",
    "* Optional: give the displayed data cleaner formatting\n",
    "\n",
    "\n",
    "* Display the summary data frame"
   ]
  },
  {
   "cell_type": "code",
   "execution_count": 5,
   "metadata": {},
   "outputs": [
    {
     "data": {
      "text/html": [
       "<div>\n",
       "<style scoped>\n",
       "    .dataframe tbody tr th:only-of-type {\n",
       "        vertical-align: middle;\n",
       "    }\n",
       "\n",
       "    .dataframe tbody tr th {\n",
       "        vertical-align: top;\n",
       "    }\n",
       "\n",
       "    .dataframe thead th {\n",
       "        text-align: right;\n",
       "    }\n",
       "</style>\n",
       "<table border=\"1\" class=\"dataframe\">\n",
       "  <thead>\n",
       "    <tr style=\"text-align: right;\">\n",
       "      <th></th>\n",
       "      <th>Purchase Count</th>\n",
       "      <th>Average Purchase Price</th>\n",
       "      <th>Total Purchase Value</th>\n",
       "      <th>Avg Total Purchase Per Person</th>\n",
       "    </tr>\n",
       "    <tr>\n",
       "      <th>Gender</th>\n",
       "      <th></th>\n",
       "      <th></th>\n",
       "      <th></th>\n",
       "      <th></th>\n",
       "    </tr>\n",
       "  </thead>\n",
       "  <tbody>\n",
       "    <tr>\n",
       "      <th>Female</th>\n",
       "      <td>113</td>\n",
       "      <td>$3.20</td>\n",
       "      <td>$361.94</td>\n",
       "      <td>$4.47</td>\n",
       "    </tr>\n",
       "    <tr>\n",
       "      <th>Male</th>\n",
       "      <td>652</td>\n",
       "      <td>$3.02</td>\n",
       "      <td>$1967.64</td>\n",
       "      <td>$4.07</td>\n",
       "    </tr>\n",
       "    <tr>\n",
       "      <th>Other / Non-Disclosed</th>\n",
       "      <td>15</td>\n",
       "      <td>$3.35</td>\n",
       "      <td>$50.19</td>\n",
       "      <td>$4.56</td>\n",
       "    </tr>\n",
       "  </tbody>\n",
       "</table>\n",
       "</div>"
      ],
      "text/plain": [
       "                       Purchase Count Average Purchase Price  \\\n",
       "Gender                                                         \n",
       "Female                            113                  $3.20   \n",
       "Male                              652                  $3.02   \n",
       "Other / Non-Disclosed              15                  $3.35   \n",
       "\n",
       "                      Total Purchase Value Avg Total Purchase Per Person  \n",
       "Gender                                                                    \n",
       "Female                             $361.94                         $4.47  \n",
       "Male                              $1967.64                         $4.07  \n",
       "Other / Non-Disclosed               $50.19                         $4.56  "
      ]
     },
     "execution_count": 5,
     "metadata": {},
     "output_type": "execute_result"
    }
   ],
   "source": [
    "# Purchase Count\n",
    "gender_purchases_df = file_df.groupby(\"Gender\")[\"Purchase ID\"].count()\n",
    "\n",
    "#Average Purchase Price\n",
    "gender_average_df = file_df.groupby(\"Gender\")[\"Price\"].mean()\n",
    "\n",
    "#Total Purchase Value\n",
    "gender_total_df = file_df.groupby(\"Gender\")[\"Price\"].sum()\n",
    "\n",
    "# Average Purchase Total per Person by Gender\n",
    "Avg_gender_total_df = gender_total_df/gender_count_df\n",
    "Avg_gender_total_df.round(2)\n",
    "\n",
    "#Create data frame\n",
    "gender_analysis_df = pd.DataFrame({\"Purchase Count\":gender_purchases_df, \n",
    "                                   \"Average Purchase Price\":gender_average_df,\n",
    "                                   \"Total Purchase Value\":gender_total_df,\n",
    "                                   \"Avg Total Purchase Per Person\":Avg_gender_total_df})\n",
    "#Formatting\n",
    "gender_analysis_df[\"Average Purchase Price\"] =gender_analysis_df[\"Average Purchase Price\"].map(\"${:.2f}\".format) \n",
    "gender_analysis_df[\"Total Purchase Value\"] =gender_analysis_df [\"Total Purchase Value\"].map(\"${:.2f}\".format)\n",
    "gender_analysis_df[\"Avg Total Purchase Per Person\"] =gender_analysis_df[\"Avg Total Purchase Per Person\"].map(\"${:.2f}\".format)\n",
    "gender_analysis_df\n"
   ]
  },
  {
   "cell_type": "markdown",
   "metadata": {},
   "source": [
    "## Age Demographics"
   ]
  },
  {
   "cell_type": "markdown",
   "metadata": {},
   "source": [
    "* Establish bins for ages\n",
    "\n",
    "\n",
    "* Categorize the existing players using the age bins. Hint: use pd.cut()\n",
    "\n",
    "\n",
    "* Calculate the numbers and percentages by age group\n",
    "\n",
    "\n",
    "* Create a summary data frame to hold the results\n",
    "\n",
    "\n",
    "* Optional: round the percentage column to two decimal points\n",
    "\n",
    "\n",
    "* Display Age Demographics Table\n"
   ]
  },
  {
   "cell_type": "code",
   "execution_count": 14,
   "metadata": {},
   "outputs": [
    {
     "data": {
      "text/html": [
       "<style  type=\"text/css\" >\n",
       "</style><table id=\"T_2d30c4a7_0776_11eb_9e78_347df68eaa84\" ><thead>    <tr>        <th class=\"blank level0\" ></th>        <th class=\"col_heading level0 col0\" >Total Count</th>        <th class=\"col_heading level0 col1\" >Percentage of Players</th>    </tr></thead><tbody>\n",
       "                <tr>\n",
       "                        <th id=\"T_2d30c4a7_0776_11eb_9e78_347df68eaa84level0_row0\" class=\"row_heading level0 row0\" ><10</th>\n",
       "                        <td id=\"T_2d30c4a7_0776_11eb_9e78_347df68eaa84row0_col0\" class=\"data row0 col0\" >17</td>\n",
       "                        <td id=\"T_2d30c4a7_0776_11eb_9e78_347df68eaa84row0_col1\" class=\"data row0 col1\" >2.95%</td>\n",
       "            </tr>\n",
       "            <tr>\n",
       "                        <th id=\"T_2d30c4a7_0776_11eb_9e78_347df68eaa84level0_row1\" class=\"row_heading level0 row1\" >10-14</th>\n",
       "                        <td id=\"T_2d30c4a7_0776_11eb_9e78_347df68eaa84row1_col0\" class=\"data row1 col0\" >22</td>\n",
       "                        <td id=\"T_2d30c4a7_0776_11eb_9e78_347df68eaa84row1_col1\" class=\"data row1 col1\" >3.82%</td>\n",
       "            </tr>\n",
       "            <tr>\n",
       "                        <th id=\"T_2d30c4a7_0776_11eb_9e78_347df68eaa84level0_row2\" class=\"row_heading level0 row2\" >15-19</th>\n",
       "                        <td id=\"T_2d30c4a7_0776_11eb_9e78_347df68eaa84row2_col0\" class=\"data row2 col0\" >107</td>\n",
       "                        <td id=\"T_2d30c4a7_0776_11eb_9e78_347df68eaa84row2_col1\" class=\"data row2 col1\" >18.58%</td>\n",
       "            </tr>\n",
       "            <tr>\n",
       "                        <th id=\"T_2d30c4a7_0776_11eb_9e78_347df68eaa84level0_row3\" class=\"row_heading level0 row3\" >20-24</th>\n",
       "                        <td id=\"T_2d30c4a7_0776_11eb_9e78_347df68eaa84row3_col0\" class=\"data row3 col0\" >258</td>\n",
       "                        <td id=\"T_2d30c4a7_0776_11eb_9e78_347df68eaa84row3_col1\" class=\"data row3 col1\" >44.79%</td>\n",
       "            </tr>\n",
       "            <tr>\n",
       "                        <th id=\"T_2d30c4a7_0776_11eb_9e78_347df68eaa84level0_row4\" class=\"row_heading level0 row4\" >25-29</th>\n",
       "                        <td id=\"T_2d30c4a7_0776_11eb_9e78_347df68eaa84row4_col0\" class=\"data row4 col0\" >77</td>\n",
       "                        <td id=\"T_2d30c4a7_0776_11eb_9e78_347df68eaa84row4_col1\" class=\"data row4 col1\" >13.37%</td>\n",
       "            </tr>\n",
       "            <tr>\n",
       "                        <th id=\"T_2d30c4a7_0776_11eb_9e78_347df68eaa84level0_row5\" class=\"row_heading level0 row5\" >30-34</th>\n",
       "                        <td id=\"T_2d30c4a7_0776_11eb_9e78_347df68eaa84row5_col0\" class=\"data row5 col0\" >52</td>\n",
       "                        <td id=\"T_2d30c4a7_0776_11eb_9e78_347df68eaa84row5_col1\" class=\"data row5 col1\" >9.03%</td>\n",
       "            </tr>\n",
       "            <tr>\n",
       "                        <th id=\"T_2d30c4a7_0776_11eb_9e78_347df68eaa84level0_row6\" class=\"row_heading level0 row6\" >35-39</th>\n",
       "                        <td id=\"T_2d30c4a7_0776_11eb_9e78_347df68eaa84row6_col0\" class=\"data row6 col0\" >31</td>\n",
       "                        <td id=\"T_2d30c4a7_0776_11eb_9e78_347df68eaa84row6_col1\" class=\"data row6 col1\" >5.38%</td>\n",
       "            </tr>\n",
       "            <tr>\n",
       "                        <th id=\"T_2d30c4a7_0776_11eb_9e78_347df68eaa84level0_row7\" class=\"row_heading level0 row7\" >40+</th>\n",
       "                        <td id=\"T_2d30c4a7_0776_11eb_9e78_347df68eaa84row7_col0\" class=\"data row7 col0\" >12</td>\n",
       "                        <td id=\"T_2d30c4a7_0776_11eb_9e78_347df68eaa84row7_col1\" class=\"data row7 col1\" >2.08%</td>\n",
       "            </tr>\n",
       "    </tbody></table>"
      ],
      "text/plain": [
       "<pandas.io.formats.style.Styler at 0x2a3d0b35c70>"
      ]
     },
     "execution_count": 14,
     "metadata": {},
     "output_type": "execute_result"
    }
   ],
   "source": [
    "# Establish bins for ages\n",
    "bins = [0,10,15,20,25,30,35,40, 45]\n",
    "age_ranges = [\"<10\", \"10-14\",\"15-19\", \"20-24\", \"25-29\", \"30-34\", \"35-39\", \">=40\"]\n",
    "\n",
    "# Segment and sort age values into bins established above\n",
    "file_df[\"Age Group\"] = pd.cut(file_df[\"Age\"],age_bins, labels=group_names)\n",
    "\n",
    "#Add \"Age Group\"\n",
    "age_grouped =file_df.groupby(\"Age Group\")\n",
    "#Count total players by age\n",
    "total_count_age = age_grouped[\"SN\"].nunique()\n",
    "# Calculate percentages\n",
    "percentage_by_age = (total_count_age/Total_players) * 100\n",
    "\n",
    "# Create data frame with obtained values\n",
    "age_demographics = pd.DataFrame({\"Total Count\": total_count_age,\"Percentage of Players\": percentage_by_age})\n",
    "\n",
    "# Format the data frame with no index name in the corner\n",
    "age_demographics.index.name = None\n",
    "\n",
    "# Format percentage with two decimal places \n",
    "age_demographics.style.format({\"Percentage of Players\":\"{:,.2f}%\"})\n"
   ]
  },
  {
   "cell_type": "markdown",
   "metadata": {},
   "source": [
    "## Purchasing Analysis (Age)"
   ]
  },
  {
   "cell_type": "markdown",
   "metadata": {},
   "source": [
    "* Bin the purchase_data data frame by age\n",
    "\n",
    "\n",
    "* Run basic calculations to obtain purchase count, avg. purchase price, avg. purchase total per person etc. in the table below\n",
    "\n",
    "\n",
    "* Create a summary data frame to hold the results\n",
    "\n",
    "\n",
    "* Optional: give the displayed data cleaner formatting\n",
    "\n",
    "\n",
    "* Display the summary data frame"
   ]
  },
  {
   "cell_type": "code",
   "execution_count": 15,
   "metadata": {},
   "outputs": [
    {
     "data": {
      "text/html": [
       "<style  type=\"text/css\" >\n",
       "</style><table id=\"T_0afc4b6a_077b_11eb_b97e_347df68eaa84\" ><thead>    <tr>        <th class=\"blank level0\" ></th>        <th class=\"col_heading level0 col0\" >Purchase Count</th>        <th class=\"col_heading level0 col1\" >Average Purchase Price</th>        <th class=\"col_heading level0 col2\" >Total Purchase Value</th>        <th class=\"col_heading level0 col3\" >Average Purchase Total per Person</th>    </tr></thead><tbody>\n",
       "                <tr>\n",
       "                        <th id=\"T_0afc4b6a_077b_11eb_b97e_347df68eaa84level0_row0\" class=\"row_heading level0 row0\" ><10</th>\n",
       "                        <td id=\"T_0afc4b6a_077b_11eb_b97e_347df68eaa84row0_col0\" class=\"data row0 col0\" >23</td>\n",
       "                        <td id=\"T_0afc4b6a_077b_11eb_b97e_347df68eaa84row0_col1\" class=\"data row0 col1\" >$3.35</td>\n",
       "                        <td id=\"T_0afc4b6a_077b_11eb_b97e_347df68eaa84row0_col2\" class=\"data row0 col2\" >$77.13</td>\n",
       "                        <td id=\"T_0afc4b6a_077b_11eb_b97e_347df68eaa84row0_col3\" class=\"data row0 col3\" >$4.54</td>\n",
       "            </tr>\n",
       "            <tr>\n",
       "                        <th id=\"T_0afc4b6a_077b_11eb_b97e_347df68eaa84level0_row1\" class=\"row_heading level0 row1\" >10-14</th>\n",
       "                        <td id=\"T_0afc4b6a_077b_11eb_b97e_347df68eaa84row1_col0\" class=\"data row1 col0\" >28</td>\n",
       "                        <td id=\"T_0afc4b6a_077b_11eb_b97e_347df68eaa84row1_col1\" class=\"data row1 col1\" >$2.96</td>\n",
       "                        <td id=\"T_0afc4b6a_077b_11eb_b97e_347df68eaa84row1_col2\" class=\"data row1 col2\" >$82.78</td>\n",
       "                        <td id=\"T_0afc4b6a_077b_11eb_b97e_347df68eaa84row1_col3\" class=\"data row1 col3\" >$3.76</td>\n",
       "            </tr>\n",
       "            <tr>\n",
       "                        <th id=\"T_0afc4b6a_077b_11eb_b97e_347df68eaa84level0_row2\" class=\"row_heading level0 row2\" >15-19</th>\n",
       "                        <td id=\"T_0afc4b6a_077b_11eb_b97e_347df68eaa84row2_col0\" class=\"data row2 col0\" >136</td>\n",
       "                        <td id=\"T_0afc4b6a_077b_11eb_b97e_347df68eaa84row2_col1\" class=\"data row2 col1\" >$3.04</td>\n",
       "                        <td id=\"T_0afc4b6a_077b_11eb_b97e_347df68eaa84row2_col2\" class=\"data row2 col2\" >$412.89</td>\n",
       "                        <td id=\"T_0afc4b6a_077b_11eb_b97e_347df68eaa84row2_col3\" class=\"data row2 col3\" >$3.86</td>\n",
       "            </tr>\n",
       "            <tr>\n",
       "                        <th id=\"T_0afc4b6a_077b_11eb_b97e_347df68eaa84level0_row3\" class=\"row_heading level0 row3\" >20-24</th>\n",
       "                        <td id=\"T_0afc4b6a_077b_11eb_b97e_347df68eaa84row3_col0\" class=\"data row3 col0\" >365</td>\n",
       "                        <td id=\"T_0afc4b6a_077b_11eb_b97e_347df68eaa84row3_col1\" class=\"data row3 col1\" >$3.05</td>\n",
       "                        <td id=\"T_0afc4b6a_077b_11eb_b97e_347df68eaa84row3_col2\" class=\"data row3 col2\" >$1,114.06</td>\n",
       "                        <td id=\"T_0afc4b6a_077b_11eb_b97e_347df68eaa84row3_col3\" class=\"data row3 col3\" >$4.32</td>\n",
       "            </tr>\n",
       "            <tr>\n",
       "                        <th id=\"T_0afc4b6a_077b_11eb_b97e_347df68eaa84level0_row4\" class=\"row_heading level0 row4\" >25-29</th>\n",
       "                        <td id=\"T_0afc4b6a_077b_11eb_b97e_347df68eaa84row4_col0\" class=\"data row4 col0\" >101</td>\n",
       "                        <td id=\"T_0afc4b6a_077b_11eb_b97e_347df68eaa84row4_col1\" class=\"data row4 col1\" >$2.90</td>\n",
       "                        <td id=\"T_0afc4b6a_077b_11eb_b97e_347df68eaa84row4_col2\" class=\"data row4 col2\" >$293.00</td>\n",
       "                        <td id=\"T_0afc4b6a_077b_11eb_b97e_347df68eaa84row4_col3\" class=\"data row4 col3\" >$3.81</td>\n",
       "            </tr>\n",
       "            <tr>\n",
       "                        <th id=\"T_0afc4b6a_077b_11eb_b97e_347df68eaa84level0_row5\" class=\"row_heading level0 row5\" >30-34</th>\n",
       "                        <td id=\"T_0afc4b6a_077b_11eb_b97e_347df68eaa84row5_col0\" class=\"data row5 col0\" >73</td>\n",
       "                        <td id=\"T_0afc4b6a_077b_11eb_b97e_347df68eaa84row5_col1\" class=\"data row5 col1\" >$2.93</td>\n",
       "                        <td id=\"T_0afc4b6a_077b_11eb_b97e_347df68eaa84row5_col2\" class=\"data row5 col2\" >$214.00</td>\n",
       "                        <td id=\"T_0afc4b6a_077b_11eb_b97e_347df68eaa84row5_col3\" class=\"data row5 col3\" >$4.12</td>\n",
       "            </tr>\n",
       "            <tr>\n",
       "                        <th id=\"T_0afc4b6a_077b_11eb_b97e_347df68eaa84level0_row6\" class=\"row_heading level0 row6\" >35-39</th>\n",
       "                        <td id=\"T_0afc4b6a_077b_11eb_b97e_347df68eaa84row6_col0\" class=\"data row6 col0\" >41</td>\n",
       "                        <td id=\"T_0afc4b6a_077b_11eb_b97e_347df68eaa84row6_col1\" class=\"data row6 col1\" >$3.60</td>\n",
       "                        <td id=\"T_0afc4b6a_077b_11eb_b97e_347df68eaa84row6_col2\" class=\"data row6 col2\" >$147.67</td>\n",
       "                        <td id=\"T_0afc4b6a_077b_11eb_b97e_347df68eaa84row6_col3\" class=\"data row6 col3\" >$4.76</td>\n",
       "            </tr>\n",
       "            <tr>\n",
       "                        <th id=\"T_0afc4b6a_077b_11eb_b97e_347df68eaa84level0_row7\" class=\"row_heading level0 row7\" >40+</th>\n",
       "                        <td id=\"T_0afc4b6a_077b_11eb_b97e_347df68eaa84row7_col0\" class=\"data row7 col0\" >13</td>\n",
       "                        <td id=\"T_0afc4b6a_077b_11eb_b97e_347df68eaa84row7_col1\" class=\"data row7 col1\" >$2.94</td>\n",
       "                        <td id=\"T_0afc4b6a_077b_11eb_b97e_347df68eaa84row7_col2\" class=\"data row7 col2\" >$38.24</td>\n",
       "                        <td id=\"T_0afc4b6a_077b_11eb_b97e_347df68eaa84row7_col3\" class=\"data row7 col3\" >$3.19</td>\n",
       "            </tr>\n",
       "    </tbody></table>"
      ],
      "text/plain": [
       "<pandas.io.formats.style.Styler at 0x2a3d1c324c0>"
      ]
     },
     "execution_count": 15,
     "metadata": {},
     "output_type": "execute_result"
    }
   ],
   "source": [
    "# Count purchases by age group\n",
    "purchase_count_age = age_grouped[\"Purchase ID\"].count()\n",
    "\n",
    "# Obtain average purchase price by age group \n",
    "avg_purchase_price_age = age_grouped[\"Price\"].mean()\n",
    "\n",
    "# Calculate total purchase value \n",
    "total_purchase_value = age_grouped[\"Price\"].sum()\n",
    "\n",
    "# Calculate the average purchase per person\n",
    "avg_purchase_per_person_age = total_purchase_value/total_count_age\n",
    "\n",
    "# Create data frame\n",
    "age_demographics = pd.DataFrame({\"Purchase Count\": purchase_count_age,\n",
    "                                 \"Average Purchase Price\": avg_purchase_price_age,\n",
    "                                 \"Total Purchase Value\":total_purchase_value,\n",
    "                                 \"Average Purchase Total per Person\": avg_purchase_per_person_age})\n",
    "\n",
    "# Format the data frame with no index\n",
    "age_demographics.index.name = None\n",
    "\n",
    "# Formatting\n",
    "age_demographics.style.format({\"Average Purchase Price\":\"${:,.2f}\",\n",
    "                               \"Total Purchase Value\":\"${:,.2f}\",\n",
    "                               \"Average Purchase Total per Person\":\"${:,.2f}\"})"
   ]
  },
  {
   "cell_type": "markdown",
   "metadata": {},
   "source": [
    "## Top Spenders"
   ]
  },
  {
   "cell_type": "markdown",
   "metadata": {},
   "source": [
    "* Run basic calculations to obtain the results in the table below\n",
    "\n",
    "\n",
    "* Create a summary data frame to hold the results\n",
    "\n",
    "\n",
    "* Sort the total purchase value column in descending order\n",
    "\n",
    "\n",
    "* Optional: give the displayed data cleaner formatting\n",
    "\n",
    "\n",
    "* Display a preview of the summary data frame\n",
    "\n"
   ]
  },
  {
   "cell_type": "code",
   "execution_count": 30,
   "metadata": {},
   "outputs": [
    {
     "data": {
      "text/html": [
       "<style  type=\"text/css\" >\n",
       "</style><table id=\"T_28eb5f23_0782_11eb_91b4_347df68eaa84\" ><thead>    <tr>        <th class=\"blank level0\" ></th>        <th class=\"col_heading level0 col0\" >Purchase Count</th>        <th class=\"col_heading level0 col1\" >Average Purchase Price</th>        <th class=\"col_heading level0 col2\" >Total Purchase Value</th>    </tr>    <tr>        <th class=\"index_name level0\" >SN</th>        <th class=\"blank\" ></th>        <th class=\"blank\" ></th>        <th class=\"blank\" ></th>    </tr></thead><tbody>\n",
       "                <tr>\n",
       "                        <th id=\"T_28eb5f23_0782_11eb_91b4_347df68eaa84level0_row0\" class=\"row_heading level0 row0\" >Lisosia93</th>\n",
       "                        <td id=\"T_28eb5f23_0782_11eb_91b4_347df68eaa84row0_col0\" class=\"data row0 col0\" >5</td>\n",
       "                        <td id=\"T_28eb5f23_0782_11eb_91b4_347df68eaa84row0_col1\" class=\"data row0 col1\" >$3.79</td>\n",
       "                        <td id=\"T_28eb5f23_0782_11eb_91b4_347df68eaa84row0_col2\" class=\"data row0 col2\" >$18.96</td>\n",
       "            </tr>\n",
       "            <tr>\n",
       "                        <th id=\"T_28eb5f23_0782_11eb_91b4_347df68eaa84level0_row1\" class=\"row_heading level0 row1\" >Idastidru52</th>\n",
       "                        <td id=\"T_28eb5f23_0782_11eb_91b4_347df68eaa84row1_col0\" class=\"data row1 col0\" >4</td>\n",
       "                        <td id=\"T_28eb5f23_0782_11eb_91b4_347df68eaa84row1_col1\" class=\"data row1 col1\" >$3.86</td>\n",
       "                        <td id=\"T_28eb5f23_0782_11eb_91b4_347df68eaa84row1_col2\" class=\"data row1 col2\" >$15.45</td>\n",
       "            </tr>\n",
       "            <tr>\n",
       "                        <th id=\"T_28eb5f23_0782_11eb_91b4_347df68eaa84level0_row2\" class=\"row_heading level0 row2\" >Chamjask73</th>\n",
       "                        <td id=\"T_28eb5f23_0782_11eb_91b4_347df68eaa84row2_col0\" class=\"data row2 col0\" >3</td>\n",
       "                        <td id=\"T_28eb5f23_0782_11eb_91b4_347df68eaa84row2_col1\" class=\"data row2 col1\" >$4.61</td>\n",
       "                        <td id=\"T_28eb5f23_0782_11eb_91b4_347df68eaa84row2_col2\" class=\"data row2 col2\" >$13.83</td>\n",
       "            </tr>\n",
       "            <tr>\n",
       "                        <th id=\"T_28eb5f23_0782_11eb_91b4_347df68eaa84level0_row3\" class=\"row_heading level0 row3\" >Iral74</th>\n",
       "                        <td id=\"T_28eb5f23_0782_11eb_91b4_347df68eaa84row3_col0\" class=\"data row3 col0\" >4</td>\n",
       "                        <td id=\"T_28eb5f23_0782_11eb_91b4_347df68eaa84row3_col1\" class=\"data row3 col1\" >$3.40</td>\n",
       "                        <td id=\"T_28eb5f23_0782_11eb_91b4_347df68eaa84row3_col2\" class=\"data row3 col2\" >$13.62</td>\n",
       "            </tr>\n",
       "            <tr>\n",
       "                        <th id=\"T_28eb5f23_0782_11eb_91b4_347df68eaa84level0_row4\" class=\"row_heading level0 row4\" >Iskadarya95</th>\n",
       "                        <td id=\"T_28eb5f23_0782_11eb_91b4_347df68eaa84row4_col0\" class=\"data row4 col0\" >3</td>\n",
       "                        <td id=\"T_28eb5f23_0782_11eb_91b4_347df68eaa84row4_col1\" class=\"data row4 col1\" >$4.37</td>\n",
       "                        <td id=\"T_28eb5f23_0782_11eb_91b4_347df68eaa84row4_col2\" class=\"data row4 col2\" >$13.10</td>\n",
       "            </tr>\n",
       "    </tbody></table>"
      ],
      "text/plain": [
       "<pandas.io.formats.style.Styler at 0x2a3d1c1ddf0>"
      ]
     },
     "execution_count": 30,
     "metadata": {},
     "output_type": "execute_result"
    }
   ],
   "source": [
    "# Identify the the top 5 spenders in the game by total purchase value, then list (in a table):\n",
    "# SN\n",
    "# Purchase Count\n",
    "# Average Purchase Price\n",
    "# Total Purchase Value\n",
    "\n",
    "Spender_info=file_df.groupby(\"SN\")\n",
    "Top_Purchase_Count=Spender_info[\"Purchase ID\"].count()\n",
    "Avg_Spender=Spender_info[\"Price\"].mean()\n",
    "Total_Spender=Spender_info[\"Price\"].sum()\n",
    "# Create data frame\n",
    "Top_Spenders_df = pd.DataFrame({\"Purchase Count\":Top_Purchase_Count,\n",
    "                             \"Average Purchase Price\":Avg_Spender,\n",
    "                             \"Total Purchase Value\":Total_Spender})\n",
    "\n",
    "Top_Five_Spenders = Top_Spenders_df.sort_values(\"Total Purchase Value\", ascending=False).head()\n",
    "Top_Five_Spenders.style.format({\"Average Purchase Price\":\"${:,.2f}\",\n",
    "                               \"Total Purchase Value\":\"${:,.2f}\"})\n"
   ]
  },
  {
   "cell_type": "markdown",
   "metadata": {},
   "source": [
    "## Most Popular Items"
   ]
  },
  {
   "cell_type": "markdown",
   "metadata": {},
   "source": [
    "* Retrieve the Item ID, Item Name, and Item Price columns\n",
    "\n",
    "\n",
    "* Group by Item ID and Item Name. Perform calculations to obtain purchase count, average item price, and total purchase value\n",
    "\n",
    "\n",
    "* Create a summary data frame to hold the results\n",
    "\n",
    "\n",
    "* Sort the purchase count column in descending order\n",
    "\n",
    "\n",
    "* Optional: give the displayed data cleaner formatting\n",
    "\n",
    "\n",
    "* Display a preview of the summary data frame\n",
    "\n"
   ]
  },
  {
   "cell_type": "code",
   "execution_count": 34,
   "metadata": {},
   "outputs": [
    {
     "data": {
      "text/html": [
       "<style  type=\"text/css\" >\n",
       "</style><table id=\"T_83514530_0784_11eb_b8ef_347df68eaa84\" ><thead>    <tr>        <th class=\"blank\" ></th>        <th class=\"blank level0\" ></th>        <th class=\"col_heading level0 col0\" >Purchase Count</th>        <th class=\"col_heading level0 col1\" >Item Price</th>        <th class=\"col_heading level0 col2\" >Total Purchase Value</th>    </tr>    <tr>        <th class=\"index_name level0\" >Item ID</th>        <th class=\"index_name level1\" >Item Name</th>        <th class=\"blank\" ></th>        <th class=\"blank\" ></th>        <th class=\"blank\" ></th>    </tr></thead><tbody>\n",
       "                <tr>\n",
       "                        <th id=\"T_83514530_0784_11eb_b8ef_347df68eaa84level0_row0\" class=\"row_heading level0 row0\" >92</th>\n",
       "                        <th id=\"T_83514530_0784_11eb_b8ef_347df68eaa84level1_row0\" class=\"row_heading level1 row0\" >Final Critic</th>\n",
       "                        <td id=\"T_83514530_0784_11eb_b8ef_347df68eaa84row0_col0\" class=\"data row0 col0\" >13</td>\n",
       "                        <td id=\"T_83514530_0784_11eb_b8ef_347df68eaa84row0_col1\" class=\"data row0 col1\" >$4.61</td>\n",
       "                        <td id=\"T_83514530_0784_11eb_b8ef_347df68eaa84row0_col2\" class=\"data row0 col2\" >$59.99</td>\n",
       "            </tr>\n",
       "            <tr>\n",
       "                        <th id=\"T_83514530_0784_11eb_b8ef_347df68eaa84level0_row1\" class=\"row_heading level0 row1\" >178</th>\n",
       "                        <th id=\"T_83514530_0784_11eb_b8ef_347df68eaa84level1_row1\" class=\"row_heading level1 row1\" >Oathbreaker, Last Hope of the Breaking Storm</th>\n",
       "                        <td id=\"T_83514530_0784_11eb_b8ef_347df68eaa84row1_col0\" class=\"data row1 col0\" >12</td>\n",
       "                        <td id=\"T_83514530_0784_11eb_b8ef_347df68eaa84row1_col1\" class=\"data row1 col1\" >$4.23</td>\n",
       "                        <td id=\"T_83514530_0784_11eb_b8ef_347df68eaa84row1_col2\" class=\"data row1 col2\" >$50.76</td>\n",
       "            </tr>\n",
       "            <tr>\n",
       "                        <th id=\"T_83514530_0784_11eb_b8ef_347df68eaa84level0_row2\" class=\"row_heading level0 row2\" >145</th>\n",
       "                        <th id=\"T_83514530_0784_11eb_b8ef_347df68eaa84level1_row2\" class=\"row_heading level1 row2\" >Fiery Glass Crusader</th>\n",
       "                        <td id=\"T_83514530_0784_11eb_b8ef_347df68eaa84row2_col0\" class=\"data row2 col0\" >9</td>\n",
       "                        <td id=\"T_83514530_0784_11eb_b8ef_347df68eaa84row2_col1\" class=\"data row2 col1\" >$4.58</td>\n",
       "                        <td id=\"T_83514530_0784_11eb_b8ef_347df68eaa84row2_col2\" class=\"data row2 col2\" >$41.22</td>\n",
       "            </tr>\n",
       "            <tr>\n",
       "                        <th id=\"T_83514530_0784_11eb_b8ef_347df68eaa84level0_row3\" class=\"row_heading level0 row3\" >132</th>\n",
       "                        <th id=\"T_83514530_0784_11eb_b8ef_347df68eaa84level1_row3\" class=\"row_heading level1 row3\" >Persuasion</th>\n",
       "                        <td id=\"T_83514530_0784_11eb_b8ef_347df68eaa84row3_col0\" class=\"data row3 col0\" >9</td>\n",
       "                        <td id=\"T_83514530_0784_11eb_b8ef_347df68eaa84row3_col1\" class=\"data row3 col1\" >$3.22</td>\n",
       "                        <td id=\"T_83514530_0784_11eb_b8ef_347df68eaa84row3_col2\" class=\"data row3 col2\" >$28.99</td>\n",
       "            </tr>\n",
       "            <tr>\n",
       "                        <th id=\"T_83514530_0784_11eb_b8ef_347df68eaa84level0_row4\" class=\"row_heading level0 row4\" >108</th>\n",
       "                        <th id=\"T_83514530_0784_11eb_b8ef_347df68eaa84level1_row4\" class=\"row_heading level1 row4\" >Extraction, Quickblade Of Trembling Hands</th>\n",
       "                        <td id=\"T_83514530_0784_11eb_b8ef_347df68eaa84row4_col0\" class=\"data row4 col0\" >9</td>\n",
       "                        <td id=\"T_83514530_0784_11eb_b8ef_347df68eaa84row4_col1\" class=\"data row4 col1\" >$3.53</td>\n",
       "                        <td id=\"T_83514530_0784_11eb_b8ef_347df68eaa84row4_col2\" class=\"data row4 col2\" >$31.77</td>\n",
       "            </tr>\n",
       "    </tbody></table>"
      ],
      "text/plain": [
       "<pandas.io.formats.style.Styler at 0x2a3ceb11b20>"
      ]
     },
     "execution_count": 34,
     "metadata": {},
     "output_type": "execute_result"
    }
   ],
   "source": [
    "# Identify the 5 most popular items by purchase count, then list (in a table):\n",
    "# Item ID\n",
    "# Item Name\n",
    "# Purchase Count\n",
    "# Item Price\n",
    "# Total Purchase Value\n",
    "Most_Popular_Group = file_df.groupby([\"Item ID\", \"Item Name\"])\n",
    "Popular_Purchase_Count = Most_Popular_Group[\"Price\"].count()\n",
    "Popular_Purchase_Value = Most_Popular_Group[\"Price\"].sum()\n",
    "Popular_Item_Price = Popular_Purchase_Value/Popular_Purchase_Count\n",
    "\n",
    "# Create data frame\n",
    "\n",
    "Most_Popular_Items = pd.DataFrame({\"Purchase Count\" : Popular_Purchase_Count,\n",
    "                                  \"Item Price\": Popular_Item_Price,\n",
    "                                  \"Total Purchase Value\": Popular_Purchase_Value})\n",
    "\n",
    "Most_Popular_Items = Most_Popular_Items.sort_values(\"Purchase Count\", ascending=False).head()\n",
    "\n",
    "#Formatting       \n",
    ".style.format({\"Item Price\":\"${:,.2f}\",\n",
    "                               \"Total Purchase Value\":\"${:,.2f}\"})"
   ]
  },
  {
   "cell_type": "markdown",
   "metadata": {},
   "source": [
    "## Most Profitable Items"
   ]
  },
  {
   "cell_type": "markdown",
   "metadata": {},
   "source": [
    "* Sort the above table by total purchase value in descending order\n",
    "\n",
    "\n",
    "* Optional: give the displayed data cleaner formatting\n",
    "\n",
    "\n",
    "* Display a preview of the data frame\n",
    "\n"
   ]
  },
  {
   "cell_type": "code",
   "execution_count": 36,
   "metadata": {
    "scrolled": true
   },
   "outputs": [
    {
     "data": {
      "text/html": [
       "<style  type=\"text/css\" >\n",
       "</style><table id=\"T_5961501c_0786_11eb_aff8_347df68eaa84\" ><thead>    <tr>        <th class=\"blank\" ></th>        <th class=\"blank level0\" ></th>        <th class=\"col_heading level0 col0\" >Purchase Count</th>        <th class=\"col_heading level0 col1\" >Item Price</th>        <th class=\"col_heading level0 col2\" >Total Purchase Value</th>    </tr>    <tr>        <th class=\"index_name level0\" >Item ID</th>        <th class=\"index_name level1\" >Item Name</th>        <th class=\"blank\" ></th>        <th class=\"blank\" ></th>        <th class=\"blank\" ></th>    </tr></thead><tbody>\n",
       "                <tr>\n",
       "                        <th id=\"T_5961501c_0786_11eb_aff8_347df68eaa84level0_row0\" class=\"row_heading level0 row0\" >92</th>\n",
       "                        <th id=\"T_5961501c_0786_11eb_aff8_347df68eaa84level1_row0\" class=\"row_heading level1 row0\" >Final Critic</th>\n",
       "                        <td id=\"T_5961501c_0786_11eb_aff8_347df68eaa84row0_col0\" class=\"data row0 col0\" >13</td>\n",
       "                        <td id=\"T_5961501c_0786_11eb_aff8_347df68eaa84row0_col1\" class=\"data row0 col1\" >$4.61</td>\n",
       "                        <td id=\"T_5961501c_0786_11eb_aff8_347df68eaa84row0_col2\" class=\"data row0 col2\" >$59.99</td>\n",
       "            </tr>\n",
       "            <tr>\n",
       "                        <th id=\"T_5961501c_0786_11eb_aff8_347df68eaa84level0_row1\" class=\"row_heading level0 row1\" >178</th>\n",
       "                        <th id=\"T_5961501c_0786_11eb_aff8_347df68eaa84level1_row1\" class=\"row_heading level1 row1\" >Oathbreaker, Last Hope of the Breaking Storm</th>\n",
       "                        <td id=\"T_5961501c_0786_11eb_aff8_347df68eaa84row1_col0\" class=\"data row1 col0\" >12</td>\n",
       "                        <td id=\"T_5961501c_0786_11eb_aff8_347df68eaa84row1_col1\" class=\"data row1 col1\" >$4.23</td>\n",
       "                        <td id=\"T_5961501c_0786_11eb_aff8_347df68eaa84row1_col2\" class=\"data row1 col2\" >$50.76</td>\n",
       "            </tr>\n",
       "            <tr>\n",
       "                        <th id=\"T_5961501c_0786_11eb_aff8_347df68eaa84level0_row2\" class=\"row_heading level0 row2\" >145</th>\n",
       "                        <th id=\"T_5961501c_0786_11eb_aff8_347df68eaa84level1_row2\" class=\"row_heading level1 row2\" >Fiery Glass Crusader</th>\n",
       "                        <td id=\"T_5961501c_0786_11eb_aff8_347df68eaa84row2_col0\" class=\"data row2 col0\" >9</td>\n",
       "                        <td id=\"T_5961501c_0786_11eb_aff8_347df68eaa84row2_col1\" class=\"data row2 col1\" >$4.58</td>\n",
       "                        <td id=\"T_5961501c_0786_11eb_aff8_347df68eaa84row2_col2\" class=\"data row2 col2\" >$41.22</td>\n",
       "            </tr>\n",
       "            <tr>\n",
       "                        <th id=\"T_5961501c_0786_11eb_aff8_347df68eaa84level0_row3\" class=\"row_heading level0 row3\" >108</th>\n",
       "                        <th id=\"T_5961501c_0786_11eb_aff8_347df68eaa84level1_row3\" class=\"row_heading level1 row3\" >Extraction, Quickblade Of Trembling Hands</th>\n",
       "                        <td id=\"T_5961501c_0786_11eb_aff8_347df68eaa84row3_col0\" class=\"data row3 col0\" >9</td>\n",
       "                        <td id=\"T_5961501c_0786_11eb_aff8_347df68eaa84row3_col1\" class=\"data row3 col1\" >$3.53</td>\n",
       "                        <td id=\"T_5961501c_0786_11eb_aff8_347df68eaa84row3_col2\" class=\"data row3 col2\" >$31.77</td>\n",
       "            </tr>\n",
       "            <tr>\n",
       "                        <th id=\"T_5961501c_0786_11eb_aff8_347df68eaa84level0_row4\" class=\"row_heading level0 row4\" >132</th>\n",
       "                        <th id=\"T_5961501c_0786_11eb_aff8_347df68eaa84level1_row4\" class=\"row_heading level1 row4\" >Persuasion</th>\n",
       "                        <td id=\"T_5961501c_0786_11eb_aff8_347df68eaa84row4_col0\" class=\"data row4 col0\" >9</td>\n",
       "                        <td id=\"T_5961501c_0786_11eb_aff8_347df68eaa84row4_col1\" class=\"data row4 col1\" >$3.22</td>\n",
       "                        <td id=\"T_5961501c_0786_11eb_aff8_347df68eaa84row4_col2\" class=\"data row4 col2\" >$28.99</td>\n",
       "            </tr>\n",
       "    </tbody></table>"
      ],
      "text/plain": [
       "<pandas.io.formats.style.Styler at 0x2a3d1e76df0>"
      ]
     },
     "execution_count": 36,
     "metadata": {},
     "output_type": "execute_result"
    }
   ],
   "source": [
    "# Identify the 5 most profitable items by total purchase value, then list (in a table):\n",
    "# Item ID\n",
    "# Item Name\n",
    "# Purchase Count\n",
    "# Item Price\n",
    "# Total Purchase Value\n",
    "Most_Profitable_Items =Most_Popular_Items.sort_values([\"Total Purchase Value\"],\n",
    "                                                   ascending=False).head()\n",
    "# Formatting\n",
    "Most_Profitable_Items.style.format({\"Item Price\":\"${:,.2f}\",\n",
    "                                \"Total Purchase Value\":\"${:,.2f}\"})"
   ]
  },
  {
   "cell_type": "raw",
   "metadata": {},
   "source": [
    "#1,The age group of buyers for these items are clearly younger, ages 15 thru 29, with nearly half falling into the 20-24 year old age group.  This group also spends a larger portion of total purchases.\n",
    "#2,The younger age group is also predominately Male (approximately 80% of total)\n",
    "#3,However, the 35-39 and Under-10 age groups have a higher average purchase total per person than any other group."
   ]
  }
 ],
 "metadata": {
  "anaconda-cloud": {},
  "kernel_info": {
   "name": "python3"
  },
  "kernelspec": {
   "display_name": "Python 3",
   "language": "python",
   "name": "python3"
  },
  "language_info": {
   "codemirror_mode": {
    "name": "ipython",
    "version": 3
   },
   "file_extension": ".py",
   "mimetype": "text/x-python",
   "name": "python",
   "nbconvert_exporter": "python",
   "pygments_lexer": "ipython3",
   "version": "3.8.3"
  },
  "latex_envs": {
   "LaTeX_envs_menu_present": true,
   "autoclose": false,
   "autocomplete": true,
   "bibliofile": "biblio.bib",
   "cite_by": "apalike",
   "current_citInitial": 1,
   "eqLabelWithNumbers": true,
   "eqNumInitial": 1,
   "hotkeys": {
    "equation": "Ctrl-E",
    "itemize": "Ctrl-I"
   },
   "labels_anchors": false,
   "latex_user_defs": false,
   "report_style_numbering": false,
   "user_envs_cfg": false
  },
  "nteract": {
   "version": "0.2.0"
  }
 },
 "nbformat": 4,
 "nbformat_minor": 2
}
